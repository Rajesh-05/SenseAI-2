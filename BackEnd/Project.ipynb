{
 "cells": [
  {
   "cell_type": "code",
   "execution_count": 1,
   "metadata": {},
   "outputs": [],
   "source": [
    "from flask import Flask, jsonify, request\n",
    "\n",
    "app = Flask(__name__)\n",
    "\n",
    "import numpy as np\n",
    "from sklearn.feature_extraction.text import CountVectorizer\n",
    "from sklearn.metrics.pairwise import cosine_similarity\n",
    "import pandas as pd\n",
    "\n",
    "df = pd.read_csv('test.csv')"
   ]
  },
  {
   "cell_type": "code",
   "execution_count": 2,
   "metadata": {},
   "outputs": [
    {
     "name": "stderr",
     "output_type": "stream",
     "text": [
      "c:\\Users\\Rajesh\\Desktop\\Project\\lib\\site-packages\\tqdm\\auto.py:21: TqdmWarning: IProgress not found. Please update jupyter and ipywidgets. See https://ipywidgets.readthedocs.io/en/stable/user_install.html\n",
      "  from .autonotebook import tqdm as notebook_tqdm\n"
     ]
    }
   ],
   "source": [
    "from sentence_transformers import SentenceTransformer\n",
    "model1 = SentenceTransformer('distilbert-base-nli-mean-tokens')"
   ]
  },
  {
   "cell_type": "code",
   "execution_count": 3,
   "metadata": {},
   "outputs": [],
   "source": [
    "def similarity(question, lst):\n",
    "    sentence_vector = model1.encode([question])[0]\n",
    "    sentences_vectors = model1.encode(lst)\n",
    "\n",
    "    # Compute the cosine similarity between the sentence vector and each of the sentences vectors\n",
    "    from sklearn.metrics.pairwise import cosine_similarity\n",
    "    similarities = [cosine_similarity([sentence_vector], [sentences_vector])[0][0] for sentences_vector in sentences_vectors]\n",
    "\n",
    "    # Find the index of the most similar sentence\n",
    "    most_similar_index = similarities.index(max(similarities))\n",
    "    return most_similar_index"
   ]
  },
  {
   "cell_type": "code",
   "execution_count": 4,
   "metadata": {},
   "outputs": [],
   "source": [
    "import gensim\n",
    "from gensim import similarities\n",
    "def sim(sentence):\n",
    "    # Define the sentence and the list of sentences\n",
    "    sentence = sentence\n",
    "    sentences = list(df['Answer'])\n",
    "\n",
    "    # Create a dictionary from the sentences\n",
    "    dictionary = gensim.corpora.Dictionary([gensim.utils.simple_preprocess(s) for s in sentences])\n",
    "\n",
    "    # Convert the sentences into vectors using TF-IDF\n",
    "    tfidf_corpus = [dictionary.doc2bow(s) for s in [gensim.utils.simple_preprocess(s) for s in sentences]]\n",
    "    tfidf_model = gensim.models.TfidfModel(tfidf_corpus)\n",
    "    index = similarities.MatrixSimilarity(tfidf_model[tfidf_corpus], num_features=len(dictionary))\n",
    "\n",
    "    # Convert the query sentence to TF-IDF vector\n",
    "    query_vec = tfidf_model[dictionary.doc2bow(gensim.utils.simple_preprocess(sentence))]\n",
    "\n",
    "    # Calculate similarities\n",
    "    sims = index[query_vec]\n",
    "\n",
    "    # Find the index of the highest similarity\n",
    "    max_index = sims.argmax()\n",
    "\n",
    "    # Return the sentence with the highest similarity\n",
    "    return max_index"
   ]
  },
  {
   "cell_type": "code",
   "execution_count": 5,
   "metadata": {},
   "outputs": [],
   "source": [
    "import spacy\n",
    "nlp = spacy.load(\"en_core_web_sm\")"
   ]
  },
  {
   "cell_type": "code",
   "execution_count": 6,
   "metadata": {},
   "outputs": [],
   "source": [
    "# @app.route('/img', methods=['GET'])\n",
    "# def img():\n",
    "#     paragraph =  str(request.args['text'])\n",
    "#     doc = nlp(paragraph)\n",
    "#     d = {}\n",
    "#     l=[]\n",
    "#     sentences = [sent.text for sent in doc.sents]\n",
    "#     for sentence in sentences:\n",
    "#         # Your data generation logic\n",
    "#         i = similarity(sentence, list(df['Answer']))\n",
    "#         l.append(df['Path'][i])\n",
    "#     d['img'] = l\n",
    "#     return d\n"
   ]
  },
  {
   "cell_type": "code",
   "execution_count": 7,
   "metadata": {},
   "outputs": [],
   "source": [
    "@app.route('/img', methods=['GET'])\n",
    "def img():\n",
    "    paragraph =  str(request.args['text'])\n",
    "    doc = nlp(paragraph)\n",
    "    d = {}\n",
    "    l=[]\n",
    "    sentences = [sent.text for sent in doc.sents]\n",
    "    for sentence in sentences:\n",
    "        # Your data generation logic\n",
    "        i = sim(sentence)\n",
    "        l.append(df['Path'][i])\n",
    "    d['img'] = l\n",
    "    return d\n"
   ]
  },
  {
   "cell_type": "code",
   "execution_count": 8,
   "metadata": {},
   "outputs": [
    {
     "name": "stdout",
     "output_type": "stream",
     "text": [
      " * Serving Flask app '__main__'\n",
      " * Debug mode: off\n"
     ]
    },
    {
     "name": "stderr",
     "output_type": "stream",
     "text": [
      "WARNING: This is a development server. Do not use it in a production deployment. Use a production WSGI server instead.\n",
      " * Running on http://127.0.0.1:5002\n",
      "Press CTRL+C to quit\n",
      "127.0.0.1 - - [01/Jun/2024 12:46:47] \"GET /img?text=Microbes%20such%20as%20bacteria,%20fungi,%20protozoa,%20certain%20algae,%20viruses,%20viroids%20and%20prions%20are%20some%20of%20the%20major%20components%20of%20the%20biological%20system%20on%20Earth.%20Several%20microorganisms%20arebeneficial%20and%20contribute%20to%20human%20welfare.%20Microbes%20are%20presenteverywhere%20–%20in%20soil,%20water,%20air%20and%20within%20bodies%20of%20animals%20and%20plants.%20Microbes%20like%20bacteria%20and%20fungi%20can%20be%20grown%20on%20nutritive%20media%20to%20form%20colonies%20which%20can%20be%20visibly%20seen.%20Some%20of%20the%20microbes%20useful%20to%20human%20welfare%20are%20discussed%20here HTTP/1.1\" 200 -\n",
      "127.0.0.1 - - [01/Jun/2024 14:20:01] \"GET /img?text=Microbes%20such%20as%20bacteria,%20fungi,%20protozoa,%20certain%20algae,%20viruses,%20viroids%20and%20prions%20are%20some%20of%20the%20major%20components%20of%20the%20biological%20system%20on%20Earth.%20Several%20microorganisms%20arebeneficial%20and%20contribute%20to%20human%20welfare.%20Microbes%20are%20presenteverywhere%20–%20in%20soil,%20water,%20air%20and%20within%20bodies%20of%20animals%20and%20plants.%20Microbes%20like%20bacteria%20and%20fungi%20can%20be%20grown%20on%20nutritive%20media%20to%20form%20colonies%20which%20can%20be%20visibly%20seen.%20Some%20of%20the%20microbes%20useful%20to%20human%20welfare%20are%20discussed%20here HTTP/1.1\" 200 -\n",
      "127.0.0.1 - - [01/Jun/2024 14:20:29] \"GET /img?text=Microorganisms%20are%20essential%20components%20of%20the%20biological%20system%20and%20contribute%20to%20human%20welfare. HTTP/1.1\" 200 -\n",
      "127.0.0.1 - - [01/Jun/2024 14:24:26] \"GET /img?text=Microbes%20such%20as%20bacteria,%20fungi,%20protozoa,%20certain%20algae,%20viruses,%20viroids%20and%20prions%20are%20some%20of%20the%20major%20components%20of%20the%20biological%20system%20on%20Earth.%20Several%20microorganisms%20arebeneficial%20and%20contribute%20to%20human%20welfare.%20Microbes%20are%20presenteverywhere%20–%20in%20soil,%20water,%20air%20and%20within%20bodies%20of%20animals%20and%20plants.%20Microbes%20like%20bacteria%20and%20fungi%20can%20be%20grown%20on%20nutritive%20media%20to%20form%20colonies%20which%20can%20be%20visibly%20seen.%20Some%20of%20the%20microbes%20useful%20to%20human%20welfare%20are%20discussed%20here HTTP/1.1\" 200 -\n",
      "127.0.0.1 - - [01/Jun/2024 14:25:00] \"GET /img?text=Microbes%20such%20as%20bacteria,%20fungi,%20protozoa,%20certain%20algae,%20viruses,%20viroids%20and%20prions%20are%20some%20of%20the%20major%20components%20of%20the%20biological%20system%20on%20Earth.%20Several%20microorganisms%20arebeneficial%20and%20contribute%20to%20human%20welfare.%20Microbes%20are%20presenteverywhere%20–%20in%20soil,%20water,%20air%20and%20within%20bodies%20of%20animals%20and%20plants.%20Microbes%20like%20bacteria%20and%20fungi%20can%20be%20grown%20on%20nutritive%20media%20to%20form%20colonies%20which%20can%20be%20visibly%20seen.%20Some%20of%20the%20microbes%20useful%20to%20human%20welfare%20are%20discussed%20here HTTP/1.1\" 200 -\n",
      "127.0.0.1 - - [01/Jun/2024 14:32:23] \"GET /img?text=Yogurt%20is%20produced%20by%20bacterial%20fermentation%20of%20milk,%20and%20lactic%20acid%20is%20produced%20as%20a%20byproduct.%20Microorganisms%20such%20as%20Streptococcus%20thermophilus%20and%20Lactobacillus%20bulgaricus%20coagulate%20the%20milk%20protein%20and%20convert%20the%20lactose%20in%20the%20milk%20to%20lactic%20acid.%20The%20flavour%20in%20yogurt%20is%20due%20to%20acetaldehyde.%20Cheese%20is%20a%20dairy%20product%20produced%20in%20a%20wide%20range%20of%20flavours,%20textures%20and%20is%20formed%20by%20coagulation%20of%20the%20milk%20protein,%20casein.%20During%20cheese%20production,%20milk%20is%20usually%20acidified%20and%20the%20enzyme%20rennet%20is%20added%20to%20cause%20coagulation.%20The%20solids%20are%20separated%20and%20pressed%20to%20form%20cheese.%20Most%20cheese%20are%20made%20with%20a%20starter%20acteria,%20Lactococcus,%20Lactobacillus%20or%20Streptococcus HTTP/1.1\" 200 -\n",
      "127.0.0.1 - - [01/Jun/2024 14:36:59] \"GET /img?text=Little%20Millet%20Botanical%20%20name-%20Panicum%20sumatrense%20%20This%20is%20one%20of%20the%20oldest%20millets%20and%20is%20native%20to%20India.%20The%20species%20name%20is%20based%20on%20a%20specimen%20collected%20from%20Sumatra.%20It%20is%20rich%20in%20iron%20and%20fibre%20than%20rice%20that%20makes%20it%20best%20for%20diabetes.%20%20Uses%20%20It%20is%20cooked%20like%20rice%20and%20also%20milled%20and%20baked.%20It%20%20cures%20%20anaemic%20%20condition,%20%20constipation%20%20and%20other%20gastrological%20problems.%20%20Foxtail%20Millet%20Botanical%20name%20:%20Setaria%20italica%20%20is%20%20one%20%20of%20%20This%20the%20%20oldest%20%20millet%20%20used%20traditionally%20%20in%20India.%20Which%20is%20domesticated%20first%20in%20China%20about%206000%20years.%20Rich%20in%20protein,%20carbohydrate,%20vitamin%20B%20and%20C,%20Potassium%20and%20Calcium.%20%20Uses%20It%20%20supports%20%20in%20%20strengthening%20%20of%20%20heart%20%20and%20improves%20eye%20sight.%20Thinai%20porridge%20is%20given%20to%20lactating%20mother.%20%20Kodo%20Millet%20Botanical%20name%20:%20Paspalum%20scrobiculatum%20%20Kodo%20%20millet%20%20is%20%20originated%20%20from%20%20West%20%20Africa,%20which%20is%20rich%20in%20fibre,%20protein%20and%20minerals.%20Uses%20Kodo%20%20millet%20%20is%20%20ground%20%20into%20%20flour%20%20and%20%20used%20to%20%20make%20%20pudding.%20%20Good%20%20diuretic%20%20and%20%20cures%20constipation.%20%20Helps%20%20to%20%20reduce%20%20obesity,%20%20blood%20sugar%20and%20blood%20pressure. HTTP/1.1\" 200 -\n",
      "127.0.0.1 - - [01/Jun/2024 14:46:41] \"GET /img?text=Microbes%20such%20as%20bacteria,%20fungi,%20protozoa,%20certain%20algae,%20viruses,%20viroids%20and%20prions%20are%20some%20of%20the%20major%20components%20of%20the%20biological%20system%20on%20Earth.%20Several%20microorganisms%20arebeneficial%20and%20contribute%20to%20human%20welfare.%20Microbes%20are%20presenteverywhere%20–%20in%20soil,%20water,%20air%20and%20within%20bodies%20of%20animals%20and%20plants.%20Microbes%20like%20bacteria%20and%20fungi%20can%20be%20grown%20on%20nutritive%20media%20to%20form%20colonies%20which%20can%20be%20visibly%20seen.%20Some%20of%20the%20microbes%20useful%20to%20human%20welfare%20are%20discussed%20here HTTP/1.1\" 200 -\n",
      "127.0.0.1 - - [01/Jun/2024 14:46:49] \"GET /img?text=Microbes%20such%20as%20bacteria,%20fungi,%20protozoa,%20certain%20algae,%20viruses,%20viroids%20and%20prions%20are%20some%20of%20the%20major%20components%20of%20the%20biological%20system%20on%20Earth.%20Several%20microorganisms%20arebeneficial%20and%20contribute%20to%20human%20welfare.%20Microbes%20are%20presenteverywhere%20–%20in%20soil,%20water,%20air%20and%20within%20bodies%20of%20animals%20and%20plants.%20Microbes%20like%20bacteria%20and%20fungi%20can%20be%20grown%20on%20nutritive%20media%20to%20form%20colonies%20which%20can%20be%20visibly%20seen.%20Some%20of%20the%20microbes%20useful%20to%20human%20welfare%20are%20discussed%20here HTTP/1.1\" 200 -\n",
      "127.0.0.1 - - [01/Jun/2024 14:46:51] \"GET /img?text=In%20every%20day%20life,%20microbes%20and%20their%20products%20are%20used%20in%20the%20preparation%20of%20idli,%20dosa,%20cheese,%20curd,%20yogurt,%20dough,%20bread,%20vinegar,%20etc.,%20Bacteria%20like%20Lactobacillus%20acidophilus,%20L.%20lactis%20and%20Streptococcus%20lactis%20commonly%20called%20lactic%20acid%20bacteria%20(LAB)%20are%20probiotics%20which%20check%20the%20growth%20of%20pathogenic%20microbes%20in%20the%20stomach%20and%20other%20parts%20of%20the%20digestive%20tract.%20The%20LAB%20bacteria%20grows%20in%20milk%20and%20convert%20it%20into%20curd,%20thereby%20digesting%20the%20milk%20protein%20casein.%20A%20small%20amount%20of%20curd%20added%20to%20fresh%20milk%20as%20a%20starter%20or%20inoculum%20contains%20millions%20of%20Lactobacilli,%20which%20under%20suitable%20temperature%20(≤40oC)%20multiply%20and%20convert%20milk%20into%20curd.%20Curd%20is%20more%20nutritious%20than%20milk%20as%20it%20contains%20a%20number%20of%20organic%20acids%20and%20vitamins HTTP/1.1\" 200 -\n",
      "127.0.0.1 - - [01/Jun/2024 14:46:54] \"GET /img?text=Yogurt%20is%20produced%20by%20bacterial%20fermentation%20of%20milk,%20and%20lactic%20acid%20is%20produced%20as%20a%20byproduct.%20Microorganisms%20such%20as%20Streptococcus%20thermophilus%20and%20Lactobacillus%20bulgaricus%20coagulate%20the%20milk%20protein%20and%20convert%20the%20lactose%20in%20the%20milk%20to%20lactic%20acid.%20The%20flavour%20in%20yogurt%20is%20due%20to%20acetaldehyde.%20Cheese%20is%20a%20dairy%20product%20produced%20in%20a%20wide%20range%20of%20flavours,%20textures%20and%20is%20formed%20by%20coagulation%20of%20the%20milk%20protein,%20casein.%20During%20cheese%20production,%20milk%20is%20usually%20acidified%20and%20the%20enzyme%20rennet%20is%20added%20to%20cause%20coagulation.%20The%20solids%20are%20separated%20and%20pressed%20to%20form%20cheese.%20Most%20cheese%20are%20made%20with%20a%20starter%20acteria,%20Lactococcus,%20Lactobacillus%20or%20Streptococcus HTTP/1.1\" 200 -\n",
      "127.0.0.1 - - [01/Jun/2024 14:52:43] \"GET /img?text=Yogurt%20is%20produced%20by%20bacterial%20fermentation%20of%20milk,%20and%20lactic%20acid%20is%20produced%20as%20a%20byproduct.%20Microorganisms%20such%20as%20Streptococcus%20thermophilus%20and%20Lactobacillus%20bulgaricus%20coagulate%20the%20milk%20protein%20and%20convert%20the%20lactose%20in%20the%20milk%20to%20lactic%20acid.%20The%20flavour%20in%20yogurt%20is%20due%20to%20acetaldehyde.%20Cheese%20is%20a%20dairy%20product%20produced%20in%20a%20wide%20range%20of%20flavours,%20textures%20and%20is%20formed%20by%20coagulation%20of%20the%20milk%20protein,%20casein.%20During%20cheese%20production,%20milk%20is%20usually%20acidified%20and%20the%20enzyme%20rennet%20is%20added%20to%20cause%20coagulation.%20The%20solids%20are%20separated%20and%20pressed%20to%20form%20cheese.%20Most%20cheese%20are%20made%20with%20a%20starter%20acteria,%20Lactococcus,%20Lactobacillus%20or%20Streptococcus HTTP/1.1\" 200 -\n",
      "127.0.0.1 - - [01/Jun/2024 14:53:52] \"GET /img?text=Yogurt%20is%20made%20by%20bacterial%20fermentation%20of%20milk,%20lactic%20acid%20is%20produced%20as%20a%20byproduct,%20and%20cheese%20is%20made%20by%20coagulation%20of%20milk%20protein,%20casein,%20and%20is%20formed%20by%20coagulation%20of%20milk%20protein,%20casein. HTTP/1.1\" 200 -\n",
      "127.0.0.1 - - [01/Jun/2024 14:54:03] \"GET /img?text=Paneer%20(cottage%20cheese)%20is%20fresh%20cheese%20common%20in%20South%20Asia,%20especially%20in%20India.It%20is%20made%20by%20curdling%20milk%20with%20lemon%20juice,%20vinegar%20and%20other%20edible%20acids.%20Large%20holes%20in%20Swiss%20cheese%20is%20due%20to%20the%20production%20farge%20amount%20of%20carbon-di-oxide%20by%20the%20bacterium%20Propionibacterium%20shermanii.The%20dough%20used%20in%20the%20preparation%20of%20idlis%20and%20dosas%20are%20fermented%20by%20the%20bacteria%20Leuconostoc%20mesenteroides%20whereas%20the%20dough%20used%20in%20bread%20making%20is%20fermented%20by%20Saccharomyces%20cerevisiae%20(Baker’s%20Yeast).%20Fermentation%20of%20glucose%20mainly%20forms%20ethyl%20alcohol%20and%20carbon%20di-oxide,%20which%20is%20responsible%20for%20leavening%20of%20dough.%20When%20leavened%20ough%20is%20baked,%20both%20carbon-di-oxide%20and%20ethyl%20alcohol%20evaporate%20making%20the%20bread%20porous%20and%20soft. HTTP/1.1\" 200 -\n",
      "127.0.0.1 - - [01/Jun/2024 14:54:05] \"GET /img?text=Single%20cell%20protein%20refers%20to%20edible%20unicellular%20microorganisms%20like%20Spirulina.%20Protein%20extracts%20from%20pure%20or%20mixed%20cultures%20of%20algae,%20yeasts,%20fungi%20or%20bacteria%20may%20be%20used%20as%20ingredient%20or%20as%20a%20substitute%20for%20protein%20rich%20foods%20and%20is%20suitable%20for%20human%20consumption%20or%20as%20animal%20feed. HTTP/1.1\" 200 -\n",
      "127.0.0.1 - - [01/Jun/2024 14:57:08] \"GET /img?text=Microbes%20are%20used%20to%20synthesize%20a%20number%20of%20products%20valuable%20to%20human%20beings.%20Products%20like%20beverages,%20antibiotics,%20organic%20acids,%20amino%20acids,%20vitamins,%20biofuels,%20single%20cell%20protein,%20enzymes,%20steroids,%20accines,%20pharmaceutical%20drugs,%20etc.,%20are%20produced%20in%20industries.%20Production%20on%20a%20large%20scale%20requires%20growing%20microbes%20in%20very%20large%20vessels%20called%20fermentors.%20A%20fermentor%20(bioreactor)%20is%20a%20closed%20vessel%20with%20adequate%20arrangement%20for%20aeration,%20agitation,%20temperature,%20pH%20control%20and%20drain%20or%20overflow%20vent%20to%20remove%20the%20waste%20biomass%20of%20cultured%20microorganisms%20along-with%20their%20products. HTTP/1.1\" 200 -\n",
      "127.0.0.1 - - [01/Jun/2024 15:01:52] \"GET /img?text=Antibiotics%20are%20chemical%20substances%20produced%20by%20microorganisms%20which%20can%20kill%20or%20retard%20the%20growth%20of%20other%20disease%20causing%20microbes%20even%20in%20low%20concentration.%20Antibiotic%20means%20“against%20life”.%20Antibiotics%20are%20used%20to%20treat%20diseases%20such%20as%20plague,%20meningitis,%20diphtheria,%20syphilis,%20leprosy,%20tuberculosis%20etc.,%20Selman%20Waksman%20discovered%20Streptomycin%20and%20was%20the%20first%20to%20use%20the%20term%20“antibiotic”%20in%201943.While%20working%20on%20Staphylococci%20bacteria,%20Alexander%20Fleming%20observed%20a%20green%20mould%20growing%20in%20one%20of%20his%20unwashed%20culture%20plates%20around%20which%20Staphylococci%20could%20not%20grow.%20He%20found%20that%20it%20was%20due%20to%20a%20chemical%20produced%20by%20the%20mould%20and%20he%20named%20it%20as%20penicillin,%20which%20was%20the%20first%20antibiotic%20discovered%20by%20Alexander%20Fleming%20in%201926%20.%20Penicillin%20is%20produced%20by%20the%20fungi%20Penicillium%20notatum%20and%20Penicillium%20chrysogenum.%20It%20is%20bactericidal%20(antibiotics%20that%20kill%20bacteria)%20in%20action%20and%20inhibits%20the%20synthesis%20of%20the%20bacterial%20cell%20wall HTTP/1.1\" 200 -\n",
      "127.0.0.1 - - [01/Jun/2024 15:01:58] \"GET /img?text=Microbes%20such%20as%20bacteria,%20fungi,%20protozoa,%20certain%20algae,%20viruses,%20viroids%20and%20prions%20are%20some%20of%20the%20major%20components%20of%20the%20biological%20system%20on%20Earth.%20Several%20microorganisms%20arebeneficial%20and%20contribute%20to%20human%20welfare.%20Microbes%20are%20presenteverywhere%20–%20in%20soil,%20water,%20air%20and%20within%20bodies%20of%20animals%20and%20plants.%20Microbes%20like%20bacteria%20and%20fungi%20can%20be%20grown%20on%20nutritive%20media%20to%20form%20colonies%20which%20can%20be%20visibly%20seen.%20Some%20of%20the%20microbes%20useful%20to%20human%20welfare%20are%20discussed%20here HTTP/1.1\" 200 -\n"
     ]
    }
   ],
   "source": [
    "if  __name__ == '__main__':\n",
    "    app.run(port=5002)"
   ]
  },
  {
   "cell_type": "code",
   "execution_count": null,
   "metadata": {},
   "outputs": [],
   "source": [
    "df.head()"
   ]
  },
  {
   "cell_type": "code",
   "execution_count": null,
   "metadata": {},
   "outputs": [],
   "source": [
    "def img(paragraph):\n",
    "    # paragraph =  str(request.args['text'])\n",
    "    doc = nlp(paragraph)\n",
    "    d = {}\n",
    "    l=[]\n",
    "    sentences = [sent.text for sent in doc.sents]\n",
    "    for sentence in sentences:\n",
    "        # Your data generation logic\n",
    "        i = similarity(sentence, list(df['Answer']))\n",
    "        l.append(df['Path'][i])\n",
    "    d['img'] = l\n",
    "    return d"
   ]
  },
  {
   "cell_type": "code",
   "execution_count": null,
   "metadata": {},
   "outputs": [
    {
     "data": {
      "text/plain": [
       "{'img': ['41.png',\n",
       "  '131.png',\n",
       "  '36.png',\n",
       "  '43.png',\n",
       "  '20.png',\n",
       "  '125.png',\n",
       "  '75.png']}"
      ]
     },
     "execution_count": 8,
     "metadata": {},
     "output_type": "execute_result"
    }
   ],
   "source": [
    "img(\"Microbes are not only used for commercial and industrial production of alcohol, but also used for production of chemicals like organic acids and enzymes. Examples of organic acid producers are Aspergillus niger for citric acid, Acetobacter aceti for acetic acid, Rhizopus oryzae for fumaric acid, Clostridium butyricum for butyric acid and Lactobacillusfor lactic acid. Yeast (Saccharomyces cerevisiae) and bacteria are used for commercial production of enzymes. Lipases are used in detergent formulations and are used for removing oily stains from the laundry. Bottled juices are clarified by the use of pectinase,protease and cellulase. Rennet can also be used to separate milk into solid curds for cheese making. Streptokinase produced by the bacterium Streptococcus and genetically engineered Streptococci are used as \\u201cclot buster\\u201d for removing clots from the blood vessels of patients who have undergone myocardial infarction\")"
   ]
  },
  {
   "cell_type": "code",
   "execution_count": null,
   "metadata": {},
   "outputs": [],
   "source": [
    "import os \n",
    "import random \n",
    "\n",
    "if (random(0,6))"
   ]
  }
 ],
 "metadata": {
  "kernelspec": {
   "display_name": "Project",
   "language": "python",
   "name": "python3"
  },
  "language_info": {
   "codemirror_mode": {
    "name": "ipython",
    "version": 3
   },
   "file_extension": ".py",
   "mimetype": "text/x-python",
   "name": "python",
   "nbconvert_exporter": "python",
   "pygments_lexer": "ipython3",
   "version": "3.10.13"
  },
  "orig_nbformat": 4
 },
 "nbformat": 4,
 "nbformat_minor": 2
}
